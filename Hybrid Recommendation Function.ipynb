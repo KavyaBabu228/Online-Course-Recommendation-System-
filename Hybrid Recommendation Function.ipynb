{
 "cells": [
  {
   "cell_type": "markdown",
   "id": "62cf704f-f7e9-4408-943b-57c8c96cc875",
   "metadata": {},
   "source": [
    "##### Import Libraries"
   ]
  },
  {
   "cell_type": "code",
   "execution_count": 1,
   "id": "51e3cdcf-bca0-4486-9a22-b78bfeeff407",
   "metadata": {},
   "outputs": [],
   "source": [
    "import pandas as pd\n",
    "import numpy as np\n",
    "from sklearn.preprocessing import OneHotEncoder\n",
    "from sklearn.feature_extraction.text import TfidfVectorizer\n",
    "from sklearn.metrics.pairwise import cosine_distances\n",
    "from scipy.sparse import hstack, csr_matrix\n",
    "import matplotlib.pyplot as plt"
   ]
  },
  {
   "cell_type": "markdown",
   "id": "0ae1f0ff-118d-4b01-b76f-564a94e6b211",
   "metadata": {},
   "source": [
    "##### Load Data"
   ]
  },
  {
   "cell_type": "code",
   "execution_count": 2,
   "id": "43019cb1-d7d8-4ba7-9823-f2753eb4b9b0",
   "metadata": {},
   "outputs": [],
   "source": [
    "file_path = r\"C:\\Users\\kavya\\Downloads\\online_course_recommendation_v2.xlsx\"\n",
    "df = pd.read_excel(file_path)"
   ]
  },
  {
   "cell_type": "markdown",
   "id": "babf0ada-3b2e-458a-ac6f-9e9e4cc28e23",
   "metadata": {},
   "source": [
    "#####  Basic Data Check"
   ]
  },
  {
   "cell_type": "code",
   "execution_count": 3,
   "id": "1deefca4-0a54-4da0-b98e-b017c257ba33",
   "metadata": {},
   "outputs": [
    {
     "name": "stdout",
     "output_type": "stream",
     "text": [
      "Shape of dataset: (100000, 14)\n",
      "\n",
      "Columns:\n",
      " ['user_id', 'course_id', 'course_name', 'instructor', 'course_duration_hours', 'certification_offered', 'difficulty_level', 'rating', 'enrollment_numbers', 'course_price', 'feedback_score', 'study_material_available', 'time_spent_hours', 'previous_courses_taken']\n",
      "\n",
      "Missing values:\n",
      " user_id                     0\n",
      "course_id                   0\n",
      "course_name                 0\n",
      "instructor                  0\n",
      "course_duration_hours       0\n",
      "certification_offered       0\n",
      "difficulty_level            0\n",
      "rating                      0\n",
      "enrollment_numbers          0\n",
      "course_price                0\n",
      "feedback_score              0\n",
      "study_material_available    0\n",
      "time_spent_hours            0\n",
      "previous_courses_taken      0\n",
      "dtype: int64\n",
      "\n",
      "Data types:\n",
      " user_id                       int64\n",
      "course_id                     int64\n",
      "course_name                  object\n",
      "instructor                   object\n",
      "course_duration_hours       float64\n",
      "certification_offered        object\n",
      "difficulty_level             object\n",
      "rating                      float64\n",
      "enrollment_numbers            int64\n",
      "course_price                float64\n",
      "feedback_score              float64\n",
      "study_material_available     object\n",
      "time_spent_hours            float64\n",
      "previous_courses_taken        int64\n",
      "dtype: object\n"
     ]
    },
    {
     "data": {
      "text/html": [
       "<div>\n",
       "<style scoped>\n",
       "    .dataframe tbody tr th:only-of-type {\n",
       "        vertical-align: middle;\n",
       "    }\n",
       "\n",
       "    .dataframe tbody tr th {\n",
       "        vertical-align: top;\n",
       "    }\n",
       "\n",
       "    .dataframe thead th {\n",
       "        text-align: right;\n",
       "    }\n",
       "</style>\n",
       "<table border=\"1\" class=\"dataframe\">\n",
       "  <thead>\n",
       "    <tr style=\"text-align: right;\">\n",
       "      <th></th>\n",
       "      <th>user_id</th>\n",
       "      <th>course_id</th>\n",
       "      <th>course_name</th>\n",
       "      <th>instructor</th>\n",
       "      <th>course_duration_hours</th>\n",
       "      <th>certification_offered</th>\n",
       "      <th>difficulty_level</th>\n",
       "      <th>rating</th>\n",
       "      <th>enrollment_numbers</th>\n",
       "      <th>course_price</th>\n",
       "      <th>feedback_score</th>\n",
       "      <th>study_material_available</th>\n",
       "      <th>time_spent_hours</th>\n",
       "      <th>previous_courses_taken</th>\n",
       "    </tr>\n",
       "  </thead>\n",
       "  <tbody>\n",
       "    <tr>\n",
       "      <th>0</th>\n",
       "      <td>15796</td>\n",
       "      <td>9366</td>\n",
       "      <td>Python for Beginners</td>\n",
       "      <td>Emma Harris</td>\n",
       "      <td>39.1</td>\n",
       "      <td>Yes</td>\n",
       "      <td>Beginner</td>\n",
       "      <td>5.0</td>\n",
       "      <td>21600</td>\n",
       "      <td>317.50</td>\n",
       "      <td>0.797</td>\n",
       "      <td>Yes</td>\n",
       "      <td>17.60</td>\n",
       "      <td>4</td>\n",
       "    </tr>\n",
       "    <tr>\n",
       "      <th>1</th>\n",
       "      <td>861</td>\n",
       "      <td>1928</td>\n",
       "      <td>Cybersecurity for Professionals</td>\n",
       "      <td>Alexander Young</td>\n",
       "      <td>36.3</td>\n",
       "      <td>Yes</td>\n",
       "      <td>Beginner</td>\n",
       "      <td>4.3</td>\n",
       "      <td>15379</td>\n",
       "      <td>40.99</td>\n",
       "      <td>0.770</td>\n",
       "      <td>Yes</td>\n",
       "      <td>28.97</td>\n",
       "      <td>9</td>\n",
       "    </tr>\n",
       "    <tr>\n",
       "      <th>2</th>\n",
       "      <td>38159</td>\n",
       "      <td>9541</td>\n",
       "      <td>DevOps and Continuous Deployment</td>\n",
       "      <td>Dr. Mia Walker</td>\n",
       "      <td>13.4</td>\n",
       "      <td>Yes</td>\n",
       "      <td>Beginner</td>\n",
       "      <td>3.9</td>\n",
       "      <td>6431</td>\n",
       "      <td>380.81</td>\n",
       "      <td>0.772</td>\n",
       "      <td>Yes</td>\n",
       "      <td>52.44</td>\n",
       "      <td>4</td>\n",
       "    </tr>\n",
       "    <tr>\n",
       "      <th>3</th>\n",
       "      <td>44733</td>\n",
       "      <td>3708</td>\n",
       "      <td>Project Management Fundamentals</td>\n",
       "      <td>Benjamin Lewis</td>\n",
       "      <td>58.3</td>\n",
       "      <td>Yes</td>\n",
       "      <td>Beginner</td>\n",
       "      <td>3.1</td>\n",
       "      <td>48245</td>\n",
       "      <td>342.80</td>\n",
       "      <td>0.969</td>\n",
       "      <td>No</td>\n",
       "      <td>22.29</td>\n",
       "      <td>6</td>\n",
       "    </tr>\n",
       "    <tr>\n",
       "      <th>4</th>\n",
       "      <td>11285</td>\n",
       "      <td>3361</td>\n",
       "      <td>Ethical Hacking Masterclass</td>\n",
       "      <td>Daniel White</td>\n",
       "      <td>30.8</td>\n",
       "      <td>Yes</td>\n",
       "      <td>Beginner</td>\n",
       "      <td>2.8</td>\n",
       "      <td>34556</td>\n",
       "      <td>381.01</td>\n",
       "      <td>0.555</td>\n",
       "      <td>Yes</td>\n",
       "      <td>22.01</td>\n",
       "      <td>5</td>\n",
       "    </tr>\n",
       "  </tbody>\n",
       "</table>\n",
       "</div>"
      ],
      "text/plain": [
       "   user_id  course_id                       course_name       instructor  \\\n",
       "0    15796       9366              Python for Beginners      Emma Harris   \n",
       "1      861       1928   Cybersecurity for Professionals  Alexander Young   \n",
       "2    38159       9541  DevOps and Continuous Deployment   Dr. Mia Walker   \n",
       "3    44733       3708   Project Management Fundamentals   Benjamin Lewis   \n",
       "4    11285       3361       Ethical Hacking Masterclass     Daniel White   \n",
       "\n",
       "   course_duration_hours certification_offered difficulty_level  rating  \\\n",
       "0                   39.1                   Yes         Beginner     5.0   \n",
       "1                   36.3                   Yes         Beginner     4.3   \n",
       "2                   13.4                   Yes         Beginner     3.9   \n",
       "3                   58.3                   Yes         Beginner     3.1   \n",
       "4                   30.8                   Yes         Beginner     2.8   \n",
       "\n",
       "   enrollment_numbers  course_price  feedback_score study_material_available  \\\n",
       "0               21600        317.50           0.797                      Yes   \n",
       "1               15379         40.99           0.770                      Yes   \n",
       "2                6431        380.81           0.772                      Yes   \n",
       "3               48245        342.80           0.969                       No   \n",
       "4               34556        381.01           0.555                      Yes   \n",
       "\n",
       "   time_spent_hours  previous_courses_taken  \n",
       "0             17.60                       4  \n",
       "1             28.97                       9  \n",
       "2             52.44                       4  \n",
       "3             22.29                       6  \n",
       "4             22.01                       5  "
      ]
     },
     "metadata": {},
     "output_type": "display_data"
    }
   ],
   "source": [
    "print(\"Shape of dataset:\", df.shape)\n",
    "print(\"\\nColumns:\\n\", df.columns.tolist())\n",
    "print(\"\\nMissing values:\\n\", df.isnull().sum())\n",
    "print(\"\\nData types:\\n\", df.dtypes)\n",
    "display(df.head())"
   ]
  },
  {
   "cell_type": "markdown",
   "id": "fa29ea8c-62c1-4dec-9432-b0c5168ef133",
   "metadata": {},
   "source": [
    "####  Prepare Collaborative Sparse Matrix (user_item_sparse)"
   ]
  },
  {
   "cell_type": "code",
   "execution_count": 4,
   "id": "0c696e57-1455-4c33-9d1a-396ad29086b1",
   "metadata": {},
   "outputs": [],
   "source": [
    "# Build user-item matrix\n",
    "user_item_matrix = df.pivot_table(\n",
    "    values='rating',\n",
    "    index='user_id',\n",
    "    columns='course_name'\n",
    ").fillna(0)\n",
    "\n",
    "user_item_sparse = csr_matrix(user_item_matrix.values)\n",
    "\n",
    "# Get list of available courses in Collaborative Filtering\n",
    "available_courses_cf = list(user_item_matrix.columns)"
   ]
  },
  {
   "cell_type": "code",
   "execution_count": 5,
   "id": "11426756-c400-43ee-b5d4-b6591524f17c",
   "metadata": {},
   "outputs": [],
   "source": [
    "#Filter df based on available courses in CF\n",
    "#available_courses = user_item_matrix.columns\n",
    "#df = df[df['course_name'].isin(available_courses)].reset_index(drop=True)\n",
    "#cf_courses = list(user_item_matrix.columns)\n",
    "#df = df[df['course_name'].isin(cf_courses)].reset_index(drop=True)\n",
    "# Filter df based on available courses\n",
    "df_filtered = df[df['course_name'].isin(available_courses_cf)].drop_duplicates('course_name').reset_index(drop=True)\n"
   ]
  },
  {
   "cell_type": "markdown",
   "id": "6a8e8701-dc21-4c30-80cc-a757eea9f11b",
   "metadata": {},
   "source": [
    "#### Prepare Content-Based Sparse Matrix (X_sparse)"
   ]
  },
  {
   "cell_type": "code",
   "execution_count": 6,
   "id": "952a939d-aa8a-4bab-aa0d-a59778d39274",
   "metadata": {},
   "outputs": [],
   "source": [
    "# Content-based features\n",
    "vectorizer = TfidfVectorizer()\n",
    "course_name_vec = vectorizer.fit_transform(df_filtered['course_name'])\n",
    "\n",
    "ohe = OneHotEncoder()\n",
    "categorical_features = df_filtered[['certification_offered', 'difficulty_level', 'study_material_available']]\n",
    "categorical_encoded = ohe.fit_transform(categorical_features)\n",
    "\n",
    "# Combine content features\n",
    "X_sparse = hstack([course_name_vec, categorical_encoded])\n"
   ]
  },
  {
   "cell_type": "code",
   "execution_count": 7,
   "id": "b32cdead-4990-4052-85eb-e8f6594d44c9",
   "metadata": {},
   "outputs": [],
   "source": [
    "# Create a mapping course_name -> index\n",
    "course_to_index = {name: idx for idx, name in enumerate(df_filtered['course_name'])}\n"
   ]
  },
  {
   "cell_type": "markdown",
   "id": "cf389df7-70e9-494e-9a7e-c68f95aa59e9",
   "metadata": {},
   "source": [
    "### Hybrid Recommendation Function"
   ]
  },
  {
   "cell_type": "code",
   "execution_count": 8,
   "id": "813bc527-fd1a-4d73-a1e7-ba35c649c779",
   "metadata": {},
   "outputs": [],
   "source": [
    "def recommend_hybrid(course_name, alpha=0.5, n_recs=5):\n",
    "    if course_name not in course_to_index:\n",
    "        print(\"Course not found!\")\n",
    "        return\n",
    "    \n",
    "    idx = course_to_index[course_name]\n",
    "    \n",
    "    # Content distances\n",
    "    content_dists = cosine_distances(X_sparse[idx], X_sparse).flatten()\n",
    "    \n",
    "    # Collaborative distances\n",
    "    course_idx_in_cf = available_courses_cf.index(course_name)\n",
    "    cf_dists = cosine_distances(user_item_sparse.T[course_idx_in_cf], user_item_sparse.T).flatten()\n",
    "    \n",
    "    # Combine distances\n",
    "    hybrid_dists = alpha * cf_dists + (1 - alpha) * content_dists\n",
    "    \n",
    "    # Top-N recommendations (excluding itself)\n",
    "    top_indices = np.argsort(hybrid_dists)[1:n_recs+1]\n",
    "    \n",
    "    recommendations = df_filtered.iloc[top_indices][['course_name', 'difficulty_level', 'certification_offered']]\n",
    "    recommendations['Hybrid Score'] = 1 - hybrid_dists[top_indices]\n",
    "    \n",
    "    return recommendations\n",
    "\n"
   ]
  },
  {
   "cell_type": "code",
   "execution_count": 9,
   "id": "6c67e505-a8a2-4723-9588-31d0692788c6",
   "metadata": {},
   "outputs": [
    {
     "data": {
      "text/html": [
       "<div>\n",
       "<style scoped>\n",
       "    .dataframe tbody tr th:only-of-type {\n",
       "        vertical-align: middle;\n",
       "    }\n",
       "\n",
       "    .dataframe tbody tr th {\n",
       "        vertical-align: top;\n",
       "    }\n",
       "\n",
       "    .dataframe thead th {\n",
       "        text-align: right;\n",
       "    }\n",
       "</style>\n",
       "<table border=\"1\" class=\"dataframe\">\n",
       "  <thead>\n",
       "    <tr style=\"text-align: right;\">\n",
       "      <th></th>\n",
       "      <th>course_name</th>\n",
       "      <th>difficulty_level</th>\n",
       "      <th>certification_offered</th>\n",
       "      <th>Hybrid Score</th>\n",
       "    </tr>\n",
       "  </thead>\n",
       "  <tbody>\n",
       "    <tr>\n",
       "      <th>0</th>\n",
       "      <td>Python for Beginners</td>\n",
       "      <td>Beginner</td>\n",
       "      <td>Yes</td>\n",
       "      <td>0.548163</td>\n",
       "    </tr>\n",
       "    <tr>\n",
       "      <th>1</th>\n",
       "      <td>Cybersecurity for Professionals</td>\n",
       "      <td>Beginner</td>\n",
       "      <td>Yes</td>\n",
       "      <td>0.454178</td>\n",
       "    </tr>\n",
       "    <tr>\n",
       "      <th>6</th>\n",
       "      <td>Personal Finance and Wealth Building</td>\n",
       "      <td>Beginner</td>\n",
       "      <td>Yes</td>\n",
       "      <td>0.420099</td>\n",
       "    </tr>\n",
       "    <tr>\n",
       "      <th>2</th>\n",
       "      <td>DevOps and Continuous Deployment</td>\n",
       "      <td>Beginner</td>\n",
       "      <td>Yes</td>\n",
       "      <td>0.420089</td>\n",
       "    </tr>\n",
       "    <tr>\n",
       "      <th>17</th>\n",
       "      <td>Stock Market and Trading Strategies</td>\n",
       "      <td>Beginner</td>\n",
       "      <td>Yes</td>\n",
       "      <td>0.420038</td>\n",
       "    </tr>\n",
       "  </tbody>\n",
       "</table>\n",
       "</div>"
      ],
      "text/plain": [
       "                             course_name difficulty_level  \\\n",
       "0                   Python for Beginners         Beginner   \n",
       "1        Cybersecurity for Professionals         Beginner   \n",
       "6   Personal Finance and Wealth Building         Beginner   \n",
       "2       DevOps and Continuous Deployment         Beginner   \n",
       "17   Stock Market and Trading Strategies         Beginner   \n",
       "\n",
       "   certification_offered  Hybrid Score  \n",
       "0                    Yes      0.548163  \n",
       "1                    Yes      0.454178  \n",
       "6                    Yes      0.420099  \n",
       "2                    Yes      0.420089  \n",
       "17                   Yes      0.420038  "
      ]
     },
     "execution_count": 9,
     "metadata": {},
     "output_type": "execute_result"
    }
   ],
   "source": [
    "recommend_hybrid('Python for Beginners', alpha=0.5, n_recs=5)\n"
   ]
  },
  {
   "cell_type": "markdown",
   "id": "79d422f8-cce0-4f1f-b0f2-23b499cfef7c",
   "metadata": {},
   "source": [
    "#### Evaluate Precision@5 vs Alpha"
   ]
  },
  {
   "cell_type": "code",
   "execution_count": 10,
   "id": "0ca2bdc2-3a72-4668-b9f6-c0cc3394bf8e",
   "metadata": {},
   "outputs": [],
   "source": [
    "def hybrid_precision_at_k(course_index, alpha, k=5):\n",
    "    \"\"\"\n",
    "    Calculate Precision@k for hybrid recommendations\n",
    "    (based on matching difficulty_level).\n",
    "    \"\"\"\n",
    "    seed_name = df.iloc[course_index]['course_name']\n",
    "    true_level = df.iloc[course_index]['difficulty_level']\n",
    "    \n",
    "    recs_df = recommend_hybrid(seed_name, alpha=alpha, n_recs=k)\n",
    "    rec_levels = recs_df['difficulty_level'].tolist()\n",
    "    \n",
    "    relevant = rec_levels.count(true_level)\n",
    "    return relevant / k\n",
    "\n",
    "# Randomly pick 30 course samples\n",
    "np.random.seed(42)\n",
    "sample_indices = np.random.choice(len(df), size=30, replace=False)\n",
    "\n",
    "# Sweep alphas\n",
    "alphas = np.linspace(0, 1, 11)  # 0.0 to 1.0\n",
    "precision_scores = []\n",
    "\n",
    "for alpha in alphas:\n",
    "    scores = [hybrid_precision_at_k(idx, alpha, k=5) for idx in sample_indices]\n",
    "    precision_scores.append(np.mean(scores))\n",
    "\n"
   ]
  },
  {
   "cell_type": "code",
   "execution_count": 11,
   "id": "8cd5edff-1f74-4820-a1ff-772b08ce2fa2",
   "metadata": {},
   "outputs": [
    {
     "data": {
      "image/png": "[encoded data removed]",
      "text/plain": [
       "<Figure size 640x480 with 1 Axes>"
      ]
     },
     "metadata": {},
     "output_type": "display_data"
    }
   ],
   "source": [
    "# Plot Precision@5 vs Alpha\n",
    "plt.plot(alphas, precision_scores, marker='o')\n",
    "plt.title(\"Hybrid Precision@5 vs α\")\n",
    "plt.xlabel(\"Alpha (weight on CF)\")\n",
    "plt.ylabel(\"Precision@5 (Difficulty Match)\")\n",
    "plt.grid(True)\n",
    "plt.show()"
   ]
  },
  {
   "cell_type": "code",
   "execution_count": 12,
   "id": "cc5aac01-9752-4170-ae0f-df9fe08323eb",
   "metadata": {},
   "outputs": [],
   "source": [
    "# ✅ Conclusion\n",
    "\n",
    "#- The Hybrid Recommendation System was successfully built by combining Content-Based Filtering and Collaborative Filtering.\n",
    "#- After tuning, the best blending value (α) was found to be around 0.7, giving the highest Precision@5.\n",
    "#- This hybrid approach improved recommendation quality compared to using only content-based or collaborative models individually.\n",
    "#- In future work, the system can be enhanced further by including additional course features (like course description text) or using matrix factorization methods."
   ]
  },
  {
   "cell_type": "markdown",
   "id": "ea93f34f-1cc9-46b0-997e-abe2eeaaf352",
   "metadata": {},
   "source": [
    "#### Save the Final Model and Preprocessing Pipelines (Optional)"
   ]
  },
  {
   "cell_type": "code",
   "execution_count": 13,
   "id": "eca31319-d9e8-4486-9173-d58e12867153",
   "metadata": {},
   "outputs": [
    {
     "data": {
      "text/plain": [
       "['X_sparse.pkl']"
      ]
     },
     "execution_count": 13,
     "metadata": {},
     "output_type": "execute_result"
    }
   ],
   "source": [
    "import joblib\n",
    "\n",
    "# Save vectorizer, one-hot encoder, and CF matrix\n",
    "joblib.dump(vectorizer, 'vectorizer.pkl')\n",
    "joblib.dump(ohe, 'onehot_encoder.pkl')\n",
    "joblib.dump(user_item_sparse, 'user_item_sparse.pkl')\n",
    "joblib.dump(X_sparse, 'X_sparse.pkl')\n"
   ]
  },
  {
   "cell_type": "code",
   "execution_count": 18,
   "id": "528b540e-b7e3-4eed-b2ab-9bdf36f04fe3",
   "metadata": {},
   "outputs": [],
   "source": [
    "import joblib\n",
    "from sklearn.feature_extraction.text import TfidfVectorizer\n",
    "from sklearn.metrics.pairwise import cosine_distances\n",
    "from scipy.sparse import save_npz\n",
    "\n",
    "# Step 1: Save the filtered DataFrame\n",
    "df_filtered.to_csv(\"df_filtered.csv\", index=False)\n",
    "\n",
    "# Step 2: TF-IDF Vectorization and content distance matrix\n",
    "vectorizer = TfidfVectorizer()\n",
    "course_features = vectorizer.fit_transform(df_filtered['course_name'])  # you can include more fields if needed\n",
    "content_distance_matrix = cosine_distances(course_features)\n",
    "\n",
    "# Step 3: Save models and matrices\n",
    "joblib.dump(vectorizer, \"vectorizer.joblib\")\n",
    "joblib.dump(ohe, \"onehot_encoder.joblib\")\n",
    "joblib.dump(available_courses_cf, \"available_courses_cf.joblib\")\n",
    "joblib.dump(content_distance_matrix, \"content_distance_matrix.joblib\")\n",
    "joblib.dump(user_item_matrix.columns.tolist(), \"cf_course_list.joblib\")\n",
    "joblib.dump(user_item_matrix.index.tolist(), \"cf_user_list.joblib\")\n",
    "save_npz(\"user_item_sparse.npz\", user_item_sparse)\n"
   ]
  },
  {
   "cell_type": "markdown",
   "id": "659dde42-076a-4727-b6b6-822c08e147b3",
   "metadata": {},
   "source": [
    "\n",
    "# hybrid recommendation.ipynb (tune the blending weight alpha)"
   ]
  },
  {
   "cell_type": "code",
   "execution_count": 17,
   "id": "77ecaeab-f363-4655-ae4c-624a9fd34fa1",
   "metadata": {},
   "outputs": [
    {
     "name": "stdout",
     "output_type": "stream",
     "text": [
      "✅ Best Hybrid α = 1.00 → Precision@5 = 0.47\n"
     ]
    }
   ],
   "source": [
    "# ===========================================\n",
    "# 🔍 Hyperparameter Tuning: Hybrid α\n",
    "# ===========================================\n",
    "\n",
    "import numpy as np\n",
    "\n",
    "# 1) Re-use or sample validation courses\n",
    "np.random.seed(42)\n",
    "sample_indices = np.random.choice(len(df), size=30, replace=False)\n",
    "\n",
    "best_alpha = 0.0\n",
    "best_score = 0.0\n",
    "alphas = np.linspace(0, 1, 11)  # 0.0, 0.1, …, 1.0\n",
    "\n",
    "# 2) Sweep α\n",
    "for a in alphas:\n",
    "    scores = [hybrid_precision_at_k(idx, alpha=a, k=5) for idx in sample_indices]\n",
    "    avg_score = np.mean(scores)\n",
    "    if avg_score > best_score:\n",
    "        best_score = avg_score\n",
    "        best_alpha = a\n",
    "\n",
    "print(f\"✅ Best Hybrid α = {best_alpha:.2f} → Precision@5 = {best_score:.2f}\")\n"
   ]
  },
  {
   "cell_type": "code",
   "execution_count": null,
   "id": "3f557d78-a9e7-4a2d-95cb-1af1b38300ce",
   "metadata": {},
   "outputs": [],
   "source": []
  },
  {
   "cell_type": "code",
   "execution_count": null,
   "id": "e6deb918-0020-4280-a63b-610e6522cb37",
   "metadata": {},
   "outputs": [],
   "source": []
  },
  {
   "cell_type": "code",
   "execution_count": null,
   "id": "795bce57-507d-4c29-94b6-1bbf94f5dd18",
   "metadata": {},
   "outputs": [],
   "source": []
  },
  {
   "cell_type": "code",
   "execution_count": null,
   "id": "19b7c045-5e34-46d8-8388-231f380b35c8",
   "metadata": {},
   "outputs": [],
   "source": []
  }
 ],
 "metadata": {
  "kernelspec": {
   "display_name": "Python 3 (ipykernel)",
   "language": "python",
   "name": "python3"
  },
  "language_info": {
   "codemirror_mode": {
    "name": "ipython",
    "version": 3
   },
   "file_extension": ".py",
   "mimetype": "text/x-python",
   "name": "python",
   "nbconvert_exporter": "python",
   "pygments_lexer": "ipython3",
   "version": "3.12.7"
  }
 },
 "nbformat": 4,
 "nbformat_minor": 5
}
